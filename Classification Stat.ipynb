{
 "cells": [
  {
   "cell_type": "code",
   "execution_count": 2,
   "metadata": {
    "collapsed": true
   },
   "outputs": [],
   "source": [
    "import pandas as pd\n",
    "import json"
   ]
  },
  {
   "cell_type": "code",
   "execution_count": 30,
   "metadata": {
    "collapsed": true
   },
   "outputs": [],
   "source": [
    "data = []\n",
    "for line in open('./result_list.txt', 'r'):\n",
    "    e = line.split('\\t')\n",
    "    name = e[0]\n",
    "    f_name= e[1]\n",
    "    c_name = e[2]\n",
    "    error = float(e[3])\n",
    "    error = str(round(error*100,1))+'%'\n",
    "    info = json.loads(e[4])\n",
    "    \n",
    "    data.append((name, f_name, c_name, error, info))"
   ]
  },
  {
   "cell_type": "code",
   "execution_count": 31,
   "metadata": {
    "collapsed": false
   },
   "outputs": [],
   "source": [
    "clfs = set([x[2] for x in data])\n",
    "features =set([x[1] for x in data])"
   ]
  },
  {
   "cell_type": "code",
   "execution_count": 32,
   "metadata": {
    "collapsed": false
   },
   "outputs": [],
   "source": [
    "features = sorted(list(features))\n",
    "clfs = list(clfs)"
   ]
  },
  {
   "cell_type": "code",
   "execution_count": 33,
   "metadata": {
    "collapsed": false
   },
   "outputs": [],
   "source": [
    "new_data = []\n",
    "for f in features:\n",
    "    new_data.append([[x[3] for x in data if x[1] == f and x[2] == clf][0] for clf in clfs])"
   ]
  },
  {
   "cell_type": "code",
   "execution_count": 34,
   "metadata": {
    "collapsed": false
   },
   "outputs": [],
   "source": [
    "df = pd.DataFrame(index=[x.replace('Vectorizer', '') for x in features], data=new_data, columns=['SVM', 'GBRT', 'LR', 'RF'])"
   ]
  },
  {
   "cell_type": "code",
   "execution_count": 35,
   "metadata": {
    "collapsed": false
   },
   "outputs": [
    {
     "data": {
      "text/html": [
       "<div style=\"max-height:1000px;max-width:1500px;overflow:auto;\">\n",
       "<table border=\"1\" class=\"dataframe\">\n",
       "  <thead>\n",
       "    <tr style=\"text-align: right;\">\n",
       "      <th></th>\n",
       "      <th>SVM</th>\n",
       "      <th>GBRT</th>\n",
       "      <th>LR</th>\n",
       "      <th>RF</th>\n",
       "    </tr>\n",
       "  </thead>\n",
       "  <tbody>\n",
       "    <tr>\n",
       "      <th>Doc2Vec_100</th>\n",
       "      <td>12.1%</td>\n",
       "      <td>14.3%</td>\n",
       "      <td>12.1%</td>\n",
       "      <td>21.0%</td>\n",
       "    </tr>\n",
       "    <tr>\n",
       "      <th>Doc2Vec_40</th>\n",
       "      <td>12.8%</td>\n",
       "      <td>15.3%</td>\n",
       "      <td>12.8%</td>\n",
       "      <td>18.1%</td>\n",
       "    </tr>\n",
       "    <tr>\n",
       "      <th>LDA_100</th>\n",
       "      <td>26.0%</td>\n",
       "      <td>29.6%</td>\n",
       "      <td>25.6%</td>\n",
       "      <td>28.1%</td>\n",
       "    </tr>\n",
       "    <tr>\n",
       "      <th>LDA_40</th>\n",
       "      <td>37.3%</td>\n",
       "      <td>35.3%</td>\n",
       "      <td>36.5%</td>\n",
       "      <td>34.5%</td>\n",
       "    </tr>\n",
       "    <tr>\n",
       "      <th>LSI_100</th>\n",
       "      <td>38.4%</td>\n",
       "      <td>32.9%</td>\n",
       "      <td>27.6%</td>\n",
       "      <td>42.0%</td>\n",
       "    </tr>\n",
       "    <tr>\n",
       "      <th>LSI_40</th>\n",
       "      <td>33.0%</td>\n",
       "      <td>35.5%</td>\n",
       "      <td>31.7%</td>\n",
       "      <td>37.2%</td>\n",
       "    </tr>\n",
       "    <tr>\n",
       "      <th>NaiveBayes</th>\n",
       "      <td>12.9%</td>\n",
       "      <td>14.2%</td>\n",
       "      <td>12.3%</td>\n",
       "      <td>20.2%</td>\n",
       "    </tr>\n",
       "    <tr>\n",
       "      <th>NaiveBayes_bigram</th>\n",
       "      <td>9.8%</td>\n",
       "      <td>13.0%</td>\n",
       "      <td>11.9%</td>\n",
       "      <td>19.3%</td>\n",
       "    </tr>\n",
       "    <tr>\n",
       "      <th>NaiveBayes_trigram</th>\n",
       "      <td>9.4%</td>\n",
       "      <td>13.0%</td>\n",
       "      <td>11.1%</td>\n",
       "      <td>19.7%</td>\n",
       "    </tr>\n",
       "    <tr>\n",
       "      <th>TfIdf</th>\n",
       "      <td>12.2%</td>\n",
       "      <td>13.7%</td>\n",
       "      <td>12.1%</td>\n",
       "      <td>20.5%</td>\n",
       "    </tr>\n",
       "    <tr>\n",
       "      <th>TfIdf_bigram</th>\n",
       "      <td>9.7%</td>\n",
       "      <td>13.0%</td>\n",
       "      <td>12.9%</td>\n",
       "      <td>20.0%</td>\n",
       "    </tr>\n",
       "    <tr>\n",
       "      <th>TfIdf_trigram</th>\n",
       "      <td>9.8%</td>\n",
       "      <td>13.3%</td>\n",
       "      <td>13.9%</td>\n",
       "      <td>20.0%</td>\n",
       "    </tr>\n",
       "    <tr>\n",
       "      <th>Word2Vec_100</th>\n",
       "      <td>18.1%</td>\n",
       "      <td>20.1%</td>\n",
       "      <td>16.1%</td>\n",
       "      <td>27.3%</td>\n",
       "    </tr>\n",
       "    <tr>\n",
       "      <th>Word2Vec_40</th>\n",
       "      <td>27.2%</td>\n",
       "      <td>26.8%</td>\n",
       "      <td>25.8%</td>\n",
       "      <td>27.2%</td>\n",
       "    </tr>\n",
       "  </tbody>\n",
       "</table>\n",
       "</div>"
      ],
      "text/plain": [
       "                      SVM   GBRT     LR     RF\n",
       "Doc2Vec_100         12.1%  14.3%  12.1%  21.0%\n",
       "Doc2Vec_40          12.8%  15.3%  12.8%  18.1%\n",
       "LDA_100             26.0%  29.6%  25.6%  28.1%\n",
       "LDA_40              37.3%  35.3%  36.5%  34.5%\n",
       "LSI_100             38.4%  32.9%  27.6%  42.0%\n",
       "LSI_40              33.0%  35.5%  31.7%  37.2%\n",
       "NaiveBayes          12.9%  14.2%  12.3%  20.2%\n",
       "NaiveBayes_bigram    9.8%  13.0%  11.9%  19.3%\n",
       "NaiveBayes_trigram   9.4%  13.0%  11.1%  19.7%\n",
       "TfIdf               12.2%  13.7%  12.1%  20.5%\n",
       "TfIdf_bigram         9.7%  13.0%  12.9%  20.0%\n",
       "TfIdf_trigram        9.8%  13.3%  13.9%  20.0%\n",
       "Word2Vec_100        18.1%  20.1%  16.1%  27.3%\n",
       "Word2Vec_40         27.2%  26.8%  25.8%  27.2%"
      ]
     },
     "execution_count": 35,
     "metadata": {},
     "output_type": "execute_result"
    }
   ],
   "source": [
    "df"
   ]
  },
  {
   "cell_type": "code",
   "execution_count": 36,
   "metadata": {
    "collapsed": false
   },
   "outputs": [],
   "source": [
    "df.to_csv('./classification.csv')"
   ]
  },
  {
   "cell_type": "code",
   "execution_count": 37,
   "metadata": {
    "collapsed": false
   },
   "outputs": [
    {
     "data": {
      "text/plain": [
       "['LinearSVC', 'XGBoost', 'LogisticRegression', 'RandomForestClassifier']"
      ]
     },
     "execution_count": 37,
     "metadata": {},
     "output_type": "execute_result"
    }
   ],
   "source": [
    "clfs"
   ]
  },
  {
   "cell_type": "code",
   "execution_count": 45,
   "metadata": {
    "collapsed": false
   },
   "outputs": [],
   "source": [
    "training_time_data = []\n",
    "for f in features:\n",
    "    training_time_data.append([[round(x[4]['training_time'],1) for x in data if x[1] == f and x[2] == clf][0] for clf in clfs])"
   ]
  },
  {
   "cell_type": "code",
   "execution_count": 46,
   "metadata": {
    "collapsed": false
   },
   "outputs": [],
   "source": [
    "train_time_df = pd.DataFrame(index=[x.replace('Vectorizer', '') for x in features], data=training_time_data, columns=['SVM', 'GBRT', 'LR', 'RF'])"
   ]
  },
  {
   "cell_type": "code",
   "execution_count": 47,
   "metadata": {
    "collapsed": false
   },
   "outputs": [
    {
     "data": {
      "text/html": [
       "<div style=\"max-height:1000px;max-width:1500px;overflow:auto;\">\n",
       "<table border=\"1\" class=\"dataframe\">\n",
       "  <thead>\n",
       "    <tr style=\"text-align: right;\">\n",
       "      <th></th>\n",
       "      <th>SVM</th>\n",
       "      <th>GBRT</th>\n",
       "      <th>LR</th>\n",
       "      <th>RF</th>\n",
       "    </tr>\n",
       "  </thead>\n",
       "  <tbody>\n",
       "    <tr>\n",
       "      <th>Doc2Vec_100</th>\n",
       "      <td>7.6</td>\n",
       "      <td>41.5</td>\n",
       "      <td>2.6</td>\n",
       "      <td>25.4</td>\n",
       "    </tr>\n",
       "    <tr>\n",
       "      <th>Doc2Vec_40</th>\n",
       "      <td>4.8</td>\n",
       "      <td>18.1</td>\n",
       "      <td>1.8</td>\n",
       "      <td>15.3</td>\n",
       "    </tr>\n",
       "    <tr>\n",
       "      <th>LDA_100</th>\n",
       "      <td>0.2</td>\n",
       "      <td>5.1</td>\n",
       "      <td>0.6</td>\n",
       "      <td>9.8</td>\n",
       "    </tr>\n",
       "    <tr>\n",
       "      <th>LDA_40</th>\n",
       "      <td>0.2</td>\n",
       "      <td>4.3</td>\n",
       "      <td>2.2</td>\n",
       "      <td>9.4</td>\n",
       "    </tr>\n",
       "    <tr>\n",
       "      <th>LSI_100</th>\n",
       "      <td>12.7</td>\n",
       "      <td>28.8</td>\n",
       "      <td>0.5</td>\n",
       "      <td>27.1</td>\n",
       "    </tr>\n",
       "    <tr>\n",
       "      <th>LSI_40</th>\n",
       "      <td>7.9</td>\n",
       "      <td>13.5</td>\n",
       "      <td>0.2</td>\n",
       "      <td>16.8</td>\n",
       "    </tr>\n",
       "    <tr>\n",
       "      <th>NaiveBayes</th>\n",
       "      <td>4.1</td>\n",
       "      <td>44.0</td>\n",
       "      <td>1.4</td>\n",
       "      <td>58.4</td>\n",
       "    </tr>\n",
       "    <tr>\n",
       "      <th>NaiveBayes_bigram</th>\n",
       "      <td>32.0</td>\n",
       "      <td>261.0</td>\n",
       "      <td>5.3</td>\n",
       "      <td>191.7</td>\n",
       "    </tr>\n",
       "    <tr>\n",
       "      <th>NaiveBayes_trigram</th>\n",
       "      <td>90.0</td>\n",
       "      <td>739.1</td>\n",
       "      <td>15.6</td>\n",
       "      <td>365.8</td>\n",
       "    </tr>\n",
       "    <tr>\n",
       "      <th>TfIdf</th>\n",
       "      <td>0.6</td>\n",
       "      <td>78.1</td>\n",
       "      <td>1.5</td>\n",
       "      <td>32.0</td>\n",
       "    </tr>\n",
       "    <tr>\n",
       "      <th>TfIdf_bigram</th>\n",
       "      <td>2.6</td>\n",
       "      <td>304.4</td>\n",
       "      <td>4.8</td>\n",
       "      <td>161.4</td>\n",
       "    </tr>\n",
       "    <tr>\n",
       "      <th>TfIdf_trigram</th>\n",
       "      <td>4.8</td>\n",
       "      <td>729.1</td>\n",
       "      <td>14.1</td>\n",
       "      <td>343.3</td>\n",
       "    </tr>\n",
       "    <tr>\n",
       "      <th>Word2Vec_100</th>\n",
       "      <td>0.6</td>\n",
       "      <td>25.4</td>\n",
       "      <td>39.1</td>\n",
       "      <td>23.6</td>\n",
       "    </tr>\n",
       "    <tr>\n",
       "      <th>Word2Vec_40</th>\n",
       "      <td>0.3</td>\n",
       "      <td>10.3</td>\n",
       "      <td>22.5</td>\n",
       "      <td>14.4</td>\n",
       "    </tr>\n",
       "  </tbody>\n",
       "</table>\n",
       "</div>"
      ],
      "text/plain": [
       "                     SVM   GBRT    LR     RF\n",
       "Doc2Vec_100          7.6   41.5   2.6   25.4\n",
       "Doc2Vec_40           4.8   18.1   1.8   15.3\n",
       "LDA_100              0.2    5.1   0.6    9.8\n",
       "LDA_40               0.2    4.3   2.2    9.4\n",
       "LSI_100             12.7   28.8   0.5   27.1\n",
       "LSI_40               7.9   13.5   0.2   16.8\n",
       "NaiveBayes           4.1   44.0   1.4   58.4\n",
       "NaiveBayes_bigram   32.0  261.0   5.3  191.7\n",
       "NaiveBayes_trigram  90.0  739.1  15.6  365.8\n",
       "TfIdf                0.6   78.1   1.5   32.0\n",
       "TfIdf_bigram         2.6  304.4   4.8  161.4\n",
       "TfIdf_trigram        4.8  729.1  14.1  343.3\n",
       "Word2Vec_100         0.6   25.4  39.1   23.6\n",
       "Word2Vec_40          0.3   10.3  22.5   14.4"
      ]
     },
     "execution_count": 47,
     "metadata": {},
     "output_type": "execute_result"
    }
   ],
   "source": [
    "train_time_df"
   ]
  },
  {
   "cell_type": "code",
   "execution_count": 48,
   "metadata": {
    "collapsed": true
   },
   "outputs": [],
   "source": [
    "train_time_df.to_csv('training_time.csv')"
   ]
  },
  {
   "cell_type": "code",
   "execution_count": null,
   "metadata": {
    "collapsed": true
   },
   "outputs": [],
   "source": []
  }
 ],
 "metadata": {
  "kernelspec": {
   "display_name": "Python 2",
   "language": "python",
   "name": "python2"
  },
  "language_info": {
   "codemirror_mode": {
    "name": "ipython",
    "version": 2
   },
   "file_extension": ".py",
   "mimetype": "text/x-python",
   "name": "python",
   "nbconvert_exporter": "python",
   "pygments_lexer": "ipython2",
   "version": "2.7.6"
  }
 },
 "nbformat": 4,
 "nbformat_minor": 0
}
