{
 "cells": [
  {
   "cell_type": "code",
   "execution_count": 4,
   "metadata": {
    "collapsed": true
   },
   "outputs": [],
   "source": [
    "import pandas as pd\n",
    "import json\n",
    "from os import path"
   ]
  },
  {
   "cell_type": "code",
   "execution_count": 44,
   "metadata": {
    "collapsed": false
   },
   "outputs": [],
   "source": [
    "data = []\n",
    "for line in open('feature_list.txt', 'r'):\n",
    "    e = line.split('\\t')\n",
    "    name = e[0]\n",
    "    info = json.loads(e[1])\n",
    "    time = info['total_time']\n",
    "    time = round(time, 1)\n",
    "    dimension = info['feature_dimension']\n",
    "    if dimension < 1000:\n",
    "        dimension = str(dimension)\n",
    "    elif dimension < 1000000:\n",
    "        dimension = '~'+str(dimension/1000)+'k'\n",
    "    else:\n",
    "        dimension = '~'+str(dimension/1000000)+'m'\n",
    "    train_file = './feature/%s_train.txt' % name\n",
    "    test_file = './feature/%s_test.txt' % name\n",
    "    filesize = path.getsize(train_file) + path.getsize(test_file)\n",
    "    if filesize < 1024:\n",
    "        filesize = str(filesize)\n",
    "    elif filesize < 1024 * 1024:\n",
    "        filesize = str(filesize/1024)+'k'\n",
    "    else:\n",
    "        filesize = str(filesize/1024/1024)+'m'\n",
    "    name = name.replace('Vectorizer', '')\n",
    "    data.append([name, time, dimension, filesize])"
   ]
  },
  {
   "cell_type": "code",
   "execution_count": 45,
   "metadata": {
    "collapsed": false
   },
   "outputs": [],
   "source": [
    "df = pd.DataFrame(data=data, columns=['Method', 'Time(s)', 'Dimension', 'File size'])"
   ]
  },
  {
   "cell_type": "code",
   "execution_count": 46,
   "metadata": {
    "collapsed": false
   },
   "outputs": [
    {
     "data": {
      "text/html": [
       "<div style=\"max-height:1000px;max-width:1500px;overflow:auto;\">\n",
       "<table border=\"1\" class=\"dataframe\">\n",
       "  <thead>\n",
       "    <tr style=\"text-align: right;\">\n",
       "      <th></th>\n",
       "      <th>Method</th>\n",
       "      <th>Time(s)</th>\n",
       "      <th>Dimension</th>\n",
       "      <th>File size</th>\n",
       "    </tr>\n",
       "  </thead>\n",
       "  <tbody>\n",
       "    <tr>\n",
       "      <th>0</th>\n",
       "      <td>LSI_100</td>\n",
       "      <td>101.3</td>\n",
       "      <td>100</td>\n",
       "      <td>105m</td>\n",
       "    </tr>\n",
       "    <tr>\n",
       "      <th>1</th>\n",
       "      <td>LSI_40</td>\n",
       "      <td>82.4</td>\n",
       "      <td>40</td>\n",
       "      <td>41m</td>\n",
       "    </tr>\n",
       "    <tr>\n",
       "      <th>2</th>\n",
       "      <td>LDA_100</td>\n",
       "      <td>618.7</td>\n",
       "      <td>100</td>\n",
       "      <td>9m</td>\n",
       "    </tr>\n",
       "    <tr>\n",
       "      <th>3</th>\n",
       "      <td>LDA_40</td>\n",
       "      <td>534.7</td>\n",
       "      <td>40</td>\n",
       "      <td>7m</td>\n",
       "    </tr>\n",
       "    <tr>\n",
       "      <th>4</th>\n",
       "      <td>TfIdf</td>\n",
       "      <td>15.7</td>\n",
       "      <td>~74k</td>\n",
       "      <td>165m</td>\n",
       "    </tr>\n",
       "    <tr>\n",
       "      <th>5</th>\n",
       "      <td>TfIdf_bigram</td>\n",
       "      <td>47.3</td>\n",
       "      <td>~1m</td>\n",
       "      <td>417m</td>\n",
       "    </tr>\n",
       "    <tr>\n",
       "      <th>6</th>\n",
       "      <td>TfIdf_trigram</td>\n",
       "      <td>102.4</td>\n",
       "      <td>~5m</td>\n",
       "      <td>630m</td>\n",
       "    </tr>\n",
       "    <tr>\n",
       "      <th>7</th>\n",
       "      <td>NaiveBayes</td>\n",
       "      <td>18.8</td>\n",
       "      <td>~290k</td>\n",
       "      <td>181m</td>\n",
       "    </tr>\n",
       "    <tr>\n",
       "      <th>8</th>\n",
       "      <td>NaiveBayes_bigram</td>\n",
       "      <td>49.7</td>\n",
       "      <td>~2m</td>\n",
       "      <td>435m</td>\n",
       "    </tr>\n",
       "    <tr>\n",
       "      <th>9</th>\n",
       "      <td>NaiveBayes_trigram</td>\n",
       "      <td>101.0</td>\n",
       "      <td>~6m</td>\n",
       "      <td>642m</td>\n",
       "    </tr>\n",
       "    <tr>\n",
       "      <th>10</th>\n",
       "      <td>Doc2Vec_40</td>\n",
       "      <td>4621.6</td>\n",
       "      <td>40</td>\n",
       "      <td>42m</td>\n",
       "    </tr>\n",
       "    <tr>\n",
       "      <th>11</th>\n",
       "      <td>Doc2Vec_100</td>\n",
       "      <td>8979.8</td>\n",
       "      <td>100</td>\n",
       "      <td>106m</td>\n",
       "    </tr>\n",
       "    <tr>\n",
       "      <th>12</th>\n",
       "      <td>Word2Vec_40</td>\n",
       "      <td>232.2</td>\n",
       "      <td>40</td>\n",
       "      <td>43m</td>\n",
       "    </tr>\n",
       "    <tr>\n",
       "      <th>13</th>\n",
       "      <td>Word2Vec_100</td>\n",
       "      <td>339.6</td>\n",
       "      <td>100</td>\n",
       "      <td>111m</td>\n",
       "    </tr>\n",
       "  </tbody>\n",
       "</table>\n",
       "</div>"
      ],
      "text/plain": [
       "                Method  Time(s) Dimension File size\n",
       "0              LSI_100    101.3       100      105m\n",
       "1               LSI_40     82.4        40       41m\n",
       "2              LDA_100    618.7       100        9m\n",
       "3               LDA_40    534.7        40        7m\n",
       "4                TfIdf     15.7      ~74k      165m\n",
       "5         TfIdf_bigram     47.3       ~1m      417m\n",
       "6        TfIdf_trigram    102.4       ~5m      630m\n",
       "7           NaiveBayes     18.8     ~290k      181m\n",
       "8    NaiveBayes_bigram     49.7       ~2m      435m\n",
       "9   NaiveBayes_trigram    101.0       ~6m      642m\n",
       "10          Doc2Vec_40   4621.6        40       42m\n",
       "11         Doc2Vec_100   8979.8       100      106m\n",
       "12         Word2Vec_40    232.2        40       43m\n",
       "13        Word2Vec_100    339.6       100      111m"
      ]
     },
     "execution_count": 46,
     "metadata": {},
     "output_type": "execute_result"
    }
   ],
   "source": [
    "df"
   ]
  },
  {
   "cell_type": "code",
   "execution_count": 47,
   "metadata": {
    "collapsed": true
   },
   "outputs": [],
   "source": [
    "df.to_csv('./feature_stat.csv')"
   ]
  },
  {
   "cell_type": "code",
   "execution_count": null,
   "metadata": {
    "collapsed": true
   },
   "outputs": [],
   "source": []
  }
 ],
 "metadata": {
  "kernelspec": {
   "display_name": "Python 2",
   "language": "python",
   "name": "python2"
  },
  "language_info": {
   "codemirror_mode": {
    "name": "ipython",
    "version": 2
   },
   "file_extension": ".py",
   "mimetype": "text/x-python",
   "name": "python",
   "nbconvert_exporter": "python",
   "pygments_lexer": "ipython2",
   "version": "2.7.6"
  }
 },
 "nbformat": 4,
 "nbformat_minor": 0
}
